{
 "cells": [
  {
   "cell_type": "markdown",
   "metadata": {},
   "source": [
    "# CTC Beam Search\n",
    "\n",
    "The implementation follows the **Algorithm 1** in [Graves et al. (2014)](http://proceedings.mlr.press/v32/graves14.pdf)."
   ]
  },
  {
   "cell_type": "code",
   "execution_count": 86,
   "metadata": {},
   "outputs": [
    {
     "name": "stdout",
     "output_type": "stream",
     "text": [
      "Requirement already satisfied: nbformat in e:\\study\\linguistics\\speech.zone\\uoe_speech_processing_course\\signals\\signals-lab-1\\.conda\\lib\\site-packages (5.9.2)\n",
      "Requirement already satisfied: fastjsonschema in e:\\study\\linguistics\\speech.zone\\uoe_speech_processing_course\\signals\\signals-lab-1\\.conda\\lib\\site-packages (from nbformat) (2.19.0)\n",
      "Requirement already satisfied: jsonschema>=2.6 in e:\\study\\linguistics\\speech.zone\\uoe_speech_processing_course\\signals\\signals-lab-1\\.conda\\lib\\site-packages (from nbformat) (4.20.0)\n",
      "Requirement already satisfied: jupyter-core in e:\\study\\linguistics\\speech.zone\\uoe_speech_processing_course\\signals\\signals-lab-1\\.conda\\lib\\site-packages (from nbformat) (4.12.0)\n",
      "Requirement already satisfied: traitlets>=5.1 in e:\\study\\linguistics\\speech.zone\\uoe_speech_processing_course\\signals\\signals-lab-1\\.conda\\lib\\site-packages (from nbformat) (5.14.0)\n",
      "Requirement already satisfied: attrs>=22.2.0 in e:\\study\\linguistics\\speech.zone\\uoe_speech_processing_course\\signals\\signals-lab-1\\.conda\\lib\\site-packages (from jsonschema>=2.6->nbformat) (23.1.0)\n",
      "Requirement already satisfied: jsonschema-specifications>=2023.03.6 in e:\\study\\linguistics\\speech.zone\\uoe_speech_processing_course\\signals\\signals-lab-1\\.conda\\lib\\site-packages (from jsonschema>=2.6->nbformat) (2023.11.2)\n",
      "Requirement already satisfied: referencing>=0.28.4 in e:\\study\\linguistics\\speech.zone\\uoe_speech_processing_course\\signals\\signals-lab-1\\.conda\\lib\\site-packages (from jsonschema>=2.6->nbformat) (0.32.0)\n",
      "Requirement already satisfied: rpds-py>=0.7.1 in e:\\study\\linguistics\\speech.zone\\uoe_speech_processing_course\\signals\\signals-lab-1\\.conda\\lib\\site-packages (from jsonschema>=2.6->nbformat) (0.15.2)\n",
      "Requirement already satisfied: pywin32>=1.0 in e:\\study\\linguistics\\speech.zone\\uoe_speech_processing_course\\signals\\signals-lab-1\\.conda\\lib\\site-packages (from jupyter-core->nbformat) (227)\n"
     ]
    }
   ],
   "source": [
    "!pip install nbformat"
   ]
  },
  {
   "cell_type": "code",
   "execution_count": 87,
   "metadata": {},
   "outputs": [],
   "source": [
    "%run ctc.ipynb"
   ]
  },
  {
   "cell_type": "code",
   "execution_count": 88,
   "metadata": {},
   "outputs": [],
   "source": [
    "import numpy as np\n",
    "import abc"
   ]
  },
  {
   "cell_type": "code",
   "execution_count": 89,
   "metadata": {},
   "outputs": [],
   "source": [
    "output = _random_ctc_output(30)"
   ]
  },
  {
   "cell_type": "markdown",
   "metadata": {},
   "source": [
    "## Greedy Decoding\n",
    "Now, let's first build a greedy decoder."
   ]
  },
  {
   "cell_type": "code",
   "execution_count": 90,
   "metadata": {},
   "outputs": [],
   "source": [
    "class AbstractDecoder(metaclass=abc.ABCMeta):\n",
    "    @abc.abstractmethod\n",
    "    def decode(self, output):\n",
    "        pass"
   ]
  },
  {
   "cell_type": "code",
   "execution_count": 91,
   "metadata": {},
   "outputs": [],
   "source": [
    "class CTCGreedyDecoder(AbstractDecoder):\n",
    "    def decode(self, output):\n",
    "        return np.argmax(softmax(output), axis=1)"
   ]
  },
  {
   "cell_type": "code",
   "execution_count": 99,
   "metadata": {},
   "outputs": [
    {
     "data": {
      "text/plain": [
       "'w^jlslfjnmxyklog^czjwndaqcgivo'"
      ]
     },
     "execution_count": 99,
     "metadata": {},
     "output_type": "execute_result"
    }
   ],
   "source": [
    "gd = CTCGreedyDecoder()\n",
    "\n",
    "\"\".join(list(map(lambda x: CharModel.ind_to_char[x], gd.decode(output))))"
   ]
  },
  {
   "cell_type": "markdown",
   "metadata": {},
   "source": [
    "## Beam Search\n",
    "\n",
    "Now, let's build the CTC beam searcher.\n",
    "\n",
    "Define $\\operatorname{Pr}^{-}(\\boldsymbol{y}, t), \\operatorname{Pr}^{+}(\\boldsymbol{y}, t)$ and $\\operatorname{Pr}(\\boldsymbol{y}, t)$ respectively as the blank, non-blank and total probabilities assigned to some (partial) output transcription $\\boldsymbol{y}$, at time $t$ by the beam search, and set $\\operatorname{Pr}(\\boldsymbol{y}, t)=\\operatorname{Pr}^{-}(\\boldsymbol{y}, t)+\\operatorname{Pr}^{+}(\\boldsymbol{y}, t)$. Define the extension probability $\\operatorname{Pr}(k, \\boldsymbol{y}, t)$ of $\\boldsymbol{y}$ by label $k$ at time $t$ as follows:\n",
    "$$\n",
    "\\operatorname{Pr}(k, \\boldsymbol{y}, t)=\\operatorname{Pr}(k, t \\mid \\boldsymbol{x}) \\operatorname{Pr}(k \\mid \\boldsymbol{y})\\left\\{\\begin{array}{l}\n",
    "\\operatorname{Pr}^{-}(\\boldsymbol{y}, t-1) \\text { if } \\boldsymbol{y}^e=k \\\\\n",
    "\\operatorname{Pr}(\\boldsymbol{y}, t-1) \\text { otherwise }\n",
    "\\end{array}\\right.\n",
    "$$\n",
    "where $\\operatorname{Pr}(k, t \\mid \\boldsymbol{x})$ is the CTC emission probability of $k$ at $t$, as defined in Eq. (13), $\\operatorname{Pr}(k \\mid \\boldsymbol{y})$ is the transition probability from $\\boldsymbol{y}$ to $\\boldsymbol{y}+k$ and $\\boldsymbol{y}^e$ is the final label in $\\boldsymbol{y}$. Lastly, define $\\hat{\\boldsymbol{y}}$ as the prefix of $\\boldsymbol{y}$ with the last label removed, and $\\varnothing$ as the empty sequence, noting that $\\operatorname{Pr}^{+}(\\varnothing, t)=0 \\forall t$.\n",
    "\n",
    "$\\operatorname{Pr}(k \\mid \\boldsymbol{y})$ is the transition prob of language model. It is set to 1 if no such information."
   ]
  },
  {
   "cell_type": "code",
   "execution_count": 93,
   "metadata": {},
   "outputs": [],
   "source": [
    "class CTCBeamSearchDecoder(AbstractDecoder):\n",
    "    def __init__(self, beam_size=5):\n",
    "        self.beam_size = beam_size\n",
    "        self.B = {(\"\", 1)}\n",
    "        self.prob_minus = {(\"\", 0): 1}\n",
    "        self.prob_plus = dict()\n",
    "\n",
    "    def _find_K_top(self):\n",
    "        if len(self.B) <= self.beam_size:\n",
    "            return self.B\n",
    "        # lst = list(self.B)\n",
    "        it = sorted(self.B, key=lambda x: x[1], reverse=True)\n",
    "        return set(it[:self.beam_size])\n",
    "    \n",
    "    def _find_max_score(self):\n",
    "        itr = map(lambda x: (x[0], x[1] ** (1.0 / len(x[0]))), self.B)\n",
    "        return sorted(itr, key=lambda x: x[1], reverse=True)[0]\n",
    "\n",
    "    def decode(self, output):\n",
    "        log_prob = softmax(output)\n",
    "        LM_score = 1 # No LM for now\n",
    "\n",
    "        for t in range(1, log_prob.shape[0]):\n",
    "            # print(self.B)\n",
    "            B_hat = self._find_K_top()\n",
    "            # print(B_hat)\n",
    "            self.B = set()\n",
    "\n",
    "            for seq, _ in B_hat:\n",
    "                if seq != \"\":\n",
    "                    self.prob_plus[(seq, t)] = \\\n",
    "                        self.prob_plus[(seq, t - 1)] * log_prob[t, CharModel.char_to_ind[seq[-1]]]\n",
    "                    \n",
    "                    if seq[:-1] in B_hat:\n",
    "                        self.prob_plus[(seq, t)] += \\\n",
    "                            LM_score * \\\n",
    "                            log_prob[t, CharModel.char_to_ind[seq[-1]]] * \\\n",
    "                            self.prob_minus[(seq, t - 1)]\n",
    "                self.prob_minus[(seq, t)] = \\\n",
    "                    self.prob_minus[(seq, t - 1)] * \\\n",
    "                        log_prob[t, CharModel.char_to_ind[CharModel.BLANK_SYMBOL]]\n",
    "                \n",
    "                self.B.add((\n",
    "                    seq, \n",
    "                    self.prob_minus[(seq, t)] +\\\n",
    "                        (self.prob_plus[(seq, t)] if seq != \"\" else 0)\n",
    "                    ))\n",
    "\n",
    "                for k in range(log_prob.shape[1]):\n",
    "                    curr_seq = seq + CharModel.ind_to_char[k]\n",
    "                    self.prob_minus[(curr_seq, t)] = 0\n",
    "                    self.prob_plus[(curr_seq, t)] = \\\n",
    "                        log_prob[t, k] * LM_score * (\n",
    "                            self.prob_minus[(seq, t-1)] if len(seq) > 0 and CharModel.char_to_ind[seq[-1]] == k \\\n",
    "                            else self.prob_minus[(seq, t-1)] + (self.prob_plus[(seq, t-1)] if len(seq) > 0 else 0))\n",
    "                    self.B.add((curr_seq, self.prob_plus[(curr_seq, t)]))\n",
    "        \n",
    "        return self._find_max_score()"
   ]
  },
  {
   "cell_type": "code",
   "execution_count": 94,
   "metadata": {},
   "outputs": [],
   "source": [
    "ctcbs = CTCBeamSearchDecoder()"
   ]
  },
  {
   "cell_type": "code",
   "execution_count": 95,
   "metadata": {},
   "outputs": [],
   "source": [
    "z = ctcbs.decode(output)"
   ]
  },
  {
   "cell_type": "code",
   "execution_count": 96,
   "metadata": {},
   "outputs": [
    {
     "data": {
      "text/plain": [
       "('^jlslfjnmxyklog^czjwndaqcgivo', 0.05402136794001452)"
      ]
     },
     "execution_count": 96,
     "metadata": {},
     "output_type": "execute_result"
    }
   ],
   "source": [
    "z"
   ]
  }
 ],
 "metadata": {
  "kernelspec": {
   "display_name": "Python 3",
   "language": "python",
   "name": "python3"
  },
  "language_info": {
   "codemirror_mode": {
    "name": "ipython",
    "version": 3
   },
   "file_extension": ".py",
   "mimetype": "text/x-python",
   "name": "python",
   "nbconvert_exporter": "python",
   "pygments_lexer": "ipython3",
   "version": "3.9.18"
  }
 },
 "nbformat": 4,
 "nbformat_minor": 2
}
