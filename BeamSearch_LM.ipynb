{
 "cells": [
  {
   "cell_type": "markdown",
   "metadata": {},
   "source": [
    "# CTC Beam Search with LM\n",
    "\n",
    "This notebook implements CTC beam search with LM presented in [Hannun el al.](https://arxiv.org/pdf/1408.2873.pdf)."
   ]
  },
  {
   "cell_type": "code",
   "execution_count": null,
   "metadata": {},
   "outputs": [],
   "source": [
    "%run ctc.ipynb\n",
    "%run ctc_bs.ipynb"
   ]
  },
  {
   "cell_type": "code",
   "execution_count": null,
   "metadata": {},
   "outputs": [],
   "source": [
    "import numpy as np\n",
    "from collections import defaultdict, Counter"
   ]
  },
  {
   "cell_type": "code",
   "execution_count": 56,
   "metadata": {},
   "outputs": [],
   "source": [
    "class CTCBeamSearchLM(AbstractDecoder):\n",
    "    def __init__(self, beam_size=10, alpha=0.3, beta=5):\n",
    "        self.beam_size = beam_size\n",
    "        self.alpha = alpha\n",
    "        self.beta = beta\n",
    "\n",
    "        self.Pb = defaultdict(Counter)\n",
    "        self.Pnb = defaultdict(Counter)\n",
    "\n",
    "        self.A_prev = [\"\"]\n",
    "\n",
    "        self.to_char = lambda x: CharModel.ind_to_char[x]\n",
    "        self.to_ind = lambda x: CharModel.char_to_ind[x]\n",
    "\n",
    "    def _topK(self, t):\n",
    "        A_next = self.Pb[t] + self.Pnb[t]\n",
    "        # print(f\"Current A_next is {A_next}\")\n",
    "        return sorted(A_next.keys(), \n",
    "                      key=lambda x: A_next[x] * len(x) ** self.beta, \n",
    "                      reverse=True)[:self.beam_size]\n",
    "\n",
    "    def decode(self, output, lm=None):\n",
    "        lm = (lambda l: 1) if not lm else lm\n",
    "        self.Pb[0][\"\"] = 1\n",
    "        self.Pnb[0][\"\"] = 0\n",
    "\n",
    "        for t in range(1, output.shape[0]):\n",
    "            # print(f\"*******timestep {t} started*********\")\n",
    "            for seq in self.A_prev:\n",
    "                # print(f\"Extending sequence {seq}\")\n",
    "                for c in range(output.shape[1]):\n",
    "                    # print(f\"try to extend char {self.to_char(c)}\")\n",
    "                    if c == self.to_ind(CharModel.BLANK_SYMBOL):\n",
    "                        self.Pb[t][seq] = output[t, c] * (self.Pb[t-1][seq] + self.Pnb[t-1][seq])\n",
    "                    else:\n",
    "                        curr_char = self.to_char(c)\n",
    "                        curr_seq = seq + curr_char\n",
    "                        # print(f\"current looking seq is {curr_seq}\")\n",
    "                        if len(seq) > 0 and curr_char == seq[-1]:\n",
    "                            self.Pnb[t][curr_seq] += output[t][c] * self.Pb[t-1][seq]\n",
    "                            self.Pnb[t][seq] += output[t][c] * self.Pb[t-1][seq]\n",
    "                        elif len(seq) > 0 and curr_char == self.to_ind(CharModel.SPACE):\n",
    "                            self.Pnb[t][curr_seq] += \\\n",
    "                                output[t][c] * lm(curr_seq) ** self.alpha *\\\n",
    "                                (self.Pb[t-1][seq] + self.Pnb[t-1][seq])\n",
    "                        else:\n",
    "                            self.Pnb[t][curr_seq] += output[t, c] *\\\n",
    "                                (self.Pb[t-1][seq] + self.Pnb[t-1][seq])\n",
    "                        \n",
    "                        if curr_seq not in self.A_prev:\n",
    "                            self.Pb[t][curr_seq] += output[t][self.to_ind(CharModel.BLANK_SYMBOL)] *\\\n",
    "                                (self.Pb[t-1][curr_seq] + self.Pnb[t-1][curr_seq])\n",
    "                            self.Pnb[t][curr_seq] += output[t][c] * self.Pnb[t-1][curr_seq]\n",
    "                        \n",
    "            self.A_prev = self._topK(t)\n",
    "        return self.A_prev[0]"
   ]
  },
  {
   "cell_type": "code",
   "execution_count": 57,
   "metadata": {},
   "outputs": [],
   "source": [
    "output = _random_ctc_output(30)"
   ]
  },
  {
   "cell_type": "code",
   "execution_count": 58,
   "metadata": {},
   "outputs": [],
   "source": [
    "ctcbslm = CTCBeamSearchLM()"
   ]
  },
  {
   "cell_type": "code",
   "execution_count": 59,
   "metadata": {},
   "outputs": [
    {
     "data": {
      "text/plain": [
       "'vk plkiviawdmuhabmxs zdgpkbdl'"
      ]
     },
     "execution_count": 59,
     "metadata": {},
     "output_type": "execute_result"
    }
   ],
   "source": [
    "ctcbslm.decode(output)"
   ]
  }
 ],
 "metadata": {
  "kernelspec": {
   "display_name": "Python 3",
   "language": "python",
   "name": "python3"
  },
  "language_info": {
   "codemirror_mode": {
    "name": "ipython",
    "version": 3
   },
   "file_extension": ".py",
   "mimetype": "text/x-python",
   "name": "python",
   "nbconvert_exporter": "python",
   "pygments_lexer": "ipython3",
   "version": "3.9.18"
  }
 },
 "nbformat": 4,
 "nbformat_minor": 2
}
