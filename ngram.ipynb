{
 "cells": [
  {
   "cell_type": "markdown",
   "metadata": {},
   "source": [
    "# N-Gram Language Modeling\n",
    "\n",
    "Here let's head into n-gram language modeling with common smoothing techniques."
   ]
  },
  {
   "cell_type": "code",
   "execution_count": null,
   "metadata": {},
   "outputs": [],
   "source": [
    "!pip install nltk"
   ]
  },
  {
   "cell_type": "code",
   "execution_count": null,
   "metadata": {},
   "outputs": [],
   "source": [
    "import numpy as np\n",
    "import re\n",
    "from nltk.corpus import stopwords"
   ]
  },
  {
   "cell_type": "markdown",
   "metadata": {},
   "source": [
    "## prepare the corpa"
   ]
  },
  {
   "cell_type": "code",
   "execution_count": null,
   "metadata": {},
   "outputs": [],
   "source": [
    "with open(\"./materials/hamlet.txt\", \"r\") as f:\n",
    "    corpa = f.readlines()"
   ]
  },
  {
   "cell_type": "code",
   "execution_count": null,
   "metadata": {},
   "outputs": [],
   "source": [
    "def preprocess(sent: str):\n",
    "    special_symbols_pattern = re.compile(r'[^a-zA-Z0-9\\s]')\n",
    "    mid_text = special_symbols_pattern \\\n",
    "        .sub(' ', sent.strip().strip(\"\\n\").lower()) \\\n",
    "        .split(\" \")\n",
    "    \n",
    "    return [word \n",
    "            for word in mid_text \n",
    "            if word != \"\" and word not in stopwords.words('english')]"
   ]
  },
  {
   "cell_type": "code",
   "execution_count": null,
   "metadata": {},
   "outputs": [],
   "source": [
    "clean_corpa = list(filter(lambda x: len(x) != 0, map(preprocess, corpa)))"
   ]
  },
  {
   "cell_type": "code",
   "execution_count": null,
   "metadata": {},
   "outputs": [],
   "source": [
    "clean_corpa.__len__()"
   ]
  },
  {
   "cell_type": "markdown",
   "metadata": {},
   "source": [
    "## Let's do n-gram now"
   ]
  },
  {
   "cell_type": "code",
   "execution_count": null,
   "metadata": {},
   "outputs": [],
   "source": [
    "class NGram:\n",
    "    def __init__(self, n, corpa) -> None:\n",
    "        self.n = n\n",
    "        self.corpa = corpa\n",
    "\n",
    "        self.vocab = set([word for sentence in self.corpa for word in sentence])\n",
    "\n",
    "        self.cnt = np.zeros((len(self.vocab),) * self.n, dtype=np.uint16)\n",
    "        self.prob = None\n",
    "        self.w2i, self.i2w = self._build_vocab()\n",
    "\n",
    "        self.cal_prob = \\\n",
    "            lambda eta: self.cnt / (np.sum(self.cnt, axis=-1, keepdims=True) +\\\n",
    "                                    eta)\n",
    "    \n",
    "    def _build_vocab(self):\n",
    "        word2index = {word: index for index, word in enumerate(self.vocab)}\n",
    "        index2word = {index: word for word, index in word2index.items()}\n",
    "\n",
    "        return word2index, index2word\n",
    "    \n",
    "    def _laplace_sm(self, alpha):\n",
    "        self.cnt += alpha\n",
    "        self.prob = self.cal_prob(0.0)\n",
    "\n",
    "    def _interpolation_sm(self, lbd):\n",
    "        # n_minus_1 = NGram(self.n - 1, self.corpa)\n",
    "        # n_minus_1.train()\n",
    "        # self.prob += lbd * n_minus_1.prob[np.newaxis:]\n",
    "        condition = self.cnt.sum(axis=-1, keepdims=True)\n",
    "        lower_rank_cond = condition.sum(axis=0, keepdims=True)\n",
    "        lower_rank_cnt = self.cnt.sum(axis=0, keepdims=True)\n",
    "\n",
    "        self.prob = self.cal_prob(1e-8) + \\\n",
    "            lbd * lower_rank_cnt / lower_rank_cond\n",
    "\n",
    "    def _good_turing(self):\n",
    "        max_cnt = np.max(self.cnt)\n",
    "        self.prob = np.zeros_like(self.cnt)\n",
    "\n",
    "        for i in range(max_cnt):\n",
    "            curr_idx = np.argwhere(self.cnt == i).T\n",
    "            next_idx = np.argwhere(self.cnt == i + 1).T\n",
    "\n",
    "            if curr_idx.size == 0:\n",
    "                raise ZeroDivisionError(\n",
    "                    f\"No word occurs {i} times. Error, divided by zero.\")\n",
    "\n",
    "            self.prob[curr_idx[0], curr_idx[1]] = \\\n",
    "                (i + 1) * next_idx.shape[1] / curr_idx.shape[1]\n",
    "        \n",
    "        max_idx = np.argwhere(self.cnt == max_cnt).T\n",
    "        self.prob[max_idx[0], max_idx[1]] = \\\n",
    "            (max_idx.shape[1] - 0.5) / np.sum(self.cnt)\n",
    "\n",
    "\n",
    "    def train(self, smooth=None, laplace_alpha=1, lbd=0.5):\n",
    "        for sentence in self.corpa:\n",
    "            if len(sentence) >= self.n:\n",
    "                for i in range(len(sentence) - self.n + 1):\n",
    "                    ngram_idx = tuple([self.w2i[word] \\\n",
    "                                       for word in sentence[i:i+self.n]])\n",
    "                    self.cnt[ngram_idx] +=1\n",
    "        \n",
    "        if smooth == \"laplace\":\n",
    "            self._laplace_sm(alpha=laplace_alpha)\n",
    "        elif smooth == \"interpolation\":\n",
    "            self._interpolation_sm(lbd=lbd)\n",
    "        elif smooth == \"good-turing\":\n",
    "            self._good_turing()\n",
    "        else:\n",
    "            print(\"No valid smoothing is provided. \\\n",
    "                  Straightforward calculation.\")\n",
    "            self.prob = self.cal_prob(1e-8)"
   ]
  },
  {
   "cell_type": "code",
   "execution_count": null,
   "metadata": {},
   "outputs": [],
   "source": [
    "bigram = NGram(2, clean_corpa)\n",
    "bigram.train(smooth=\"good-turing\")"
   ]
  },
  {
   "cell_type": "markdown",
   "metadata": {},
   "source": [
    "Oops, we encountered a divided-by-zero error. In the Good-Turing smoothing:\n",
    "\n",
    "$$\n",
    "P_r = \\frac{(r + 1) \\times N_{r+1}}{N_r} \\\\\n",
    "\n",
    "P_{max} = \\frac{r_{max} - 1/2}{N}\n",
    "$$\n",
    "\n",
    "when $N_r = 0$, it will be very problematic to handle this situation, which usually includes interpolation from higher rank events or back-off to lower rank language models."
   ]
  },
  {
   "cell_type": "code",
   "execution_count": null,
   "metadata": {},
   "outputs": [],
   "source": [
    "bigram.prob"
   ]
  },
  {
   "cell_type": "code",
   "execution_count": null,
   "metadata": {},
   "outputs": [],
   "source": [
    "a = np.argwhere(bigram.prob > 0)"
   ]
  },
  {
   "cell_type": "markdown",
   "metadata": {},
   "source": [
    "Using Numpy array to represents a language model is costly in memory, as they are quite sparse. Therefore, more memory efficient solutions should be used. Please refer [KenLM](https://github.com/kpu/kenlm), [SRILM](http://www.speech.sri.com/projects/srilm/)."
   ]
  }
 ],
 "metadata": {
  "kernelspec": {
   "display_name": "Python 3",
   "language": "python",
   "name": "python3"
  },
  "language_info": {
   "codemirror_mode": {
    "name": "ipython",
    "version": 3
   },
   "file_extension": ".py",
   "mimetype": "text/x-python",
   "name": "python",
   "nbconvert_exporter": "python",
   "pygments_lexer": "ipython3",
   "version": "3.9.18"
  }
 },
 "nbformat": 4,
 "nbformat_minor": 2
}
